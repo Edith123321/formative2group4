{
 "cells": [
  {
   "cell_type": "markdown",
   "id": "570afa91",
   "metadata": {},
   "source": [
    "# Advanced CNN model\n",
    "## Importing the models\n",
    "Handling the essential setup for a reproducible deep learning environment. Import TensorFlow and Keras for building and training neural networks, along with supporting libraries for data visualization and performance evaluation. The random seed initialization ensures consistent results across multiple runs by controlling the randomness in numerical computations and model weight initialization."
   ]
  },
  {
   "cell_type": "code",
   "execution_count": 1,
   "id": "31b7b31d",
   "metadata": {},
   "outputs": [
    {
     "name": "stderr",
     "output_type": "stream",
     "text": [
      "2025-10-05 20:07:45.637320: I tensorflow/core/platform/cpu_feature_guard.cc:210] This TensorFlow binary is optimized to use available CPU instructions in performance-critical operations.\n",
      "To enable the following instructions: AVX2 FMA, in other operations, rebuild TensorFlow with the appropriate compiler flags.\n",
      "/Users/Zhuanz/formative2group4/.venv/lib/python3.9/site-packages/urllib3/__init__.py:35: NotOpenSSLWarning: urllib3 v2 only supports OpenSSL 1.1.1+, currently the 'ssl' module is compiled with 'LibreSSL 2.8.3'. See: https://github.com/urllib3/urllib3/issues/3020\n",
      "  warnings.warn(\n"
     ]
    }
   ],
   "source": [
    "# Importing libraries\n",
    "import tensorflow as tf\n",
    "from tensorflow import keras\n",
    "from tensorflow.keras import layers\n",
    "from tensorflow.keras.preprocessing.image import ImageDataGenerator\n",
    "import matplotlib.pyplot as plt\n",
    "import numpy as np\n",
    "import os\n",
    "from sklearn.metrics import accuracy_score, precision_score, recall_score, f1_score\n",
    "from sklearn.metrics import confusion_matrix, roc_curve, auc\n",
    "\n",
    "# Set random seeds\n",
    "np.random.seed(42)\n",
    "tf.random.set_seed(42)\n"
   ]
  },
  {
   "cell_type": "markdown",
   "id": "cbf9cf95",
   "metadata": {},
   "source": [
    "## Data Augmentation Strategy\n",
    "\n",
    "To enhance the robustness and generalization capabilities of the advanced CNN model, a comprehensive data augmentation strategy is implemented. This involves applying a series of random transformations to the training images during the training process. The `ImageDataGenerator` class from TensorFlow Keras is utilized for this purpose.\n",
    "\n",
    "The following transformations are applied to the training data:\n",
    "\n",
    "- **Rescaling:** Pixel values are scaled to the range [0, 1] by dividing by 255.\n",
    "- **Rotation:** Images are randomly rotated by up to 15 degrees.\n",
    "- **Width and Height Shift:** Images are randomly shifted horizontally and vertically by up to 15% of their width and height, respectively.\n",
    "- **Shear:** Shear transformations are applied with a shear intensity of up to 15 degrees.\n",
    "- **Zoom:** Images are randomly zoomed in or out by up to 15%.\n",
    "- **Horizontal Flip:** Images are randomly flipped horizontally.\n",
    "- **Fill Mode:** Pixels outside the boundaries after transformations are filled using the 'nearest' strategy.\n",
    "\n",
    "These transformations create variations of the existing training data, effectively increasing the size and diversity of the training dataset. This helps the model learn more invariant features and reduces the risk of overfitting to the specific characteristics of the original training images.\n",
    "\n",
    "A separate `ImageDataGenerator` is used for the validation and test sets, with only rescaling applied, to ensure that the model's performance is evaluated on unseen, untransformed data."
   ]
  },
  {
   "cell_type": "code",
   "execution_count": 2,
   "id": "0b73059d",
   "metadata": {},
   "outputs": [],
   "source": [
    "# defining image size \n",
    "IMG_SIZE = 128  \n",
    "BATCH_SIZE = 64  \n",
    "\n",
    "# data augmentation which means generating new training data from existing training data by applying random transformations\n",
    "# to help the model generalize better and reduce overfitting\n",
    "train_datagen = ImageDataGenerator(\n",
    "    rescale=1./255,\n",
    "    rotation_range=15,  #\n",
    "    width_shift_range=0.15, \n",
    "    height_shift_range=0.15, \n",
    "    shear_range=0.15,  \n",
    "    zoom_range=0.15,  \n",
    "    horizontal_flip=True,\n",
    "    fill_mode='nearest'\n",
    ")\n",
    "\n",
    "val_datagen = ImageDataGenerator(rescale=1./255)"
   ]
  },
  {
   "cell_type": "markdown",
   "id": "2bfb54a3",
   "metadata": {},
   "source": []
  },
  {
   "cell_type": "code",
   "execution_count": 3,
   "id": "472177c4",
   "metadata": {},
   "outputs": [
    {
     "name": "stdout",
     "output_type": "stream",
     "text": [
      "Found 19290 images belonging to 2 classes.\n",
      "Found 4134 images belonging to 2 classes.\n",
      "Found 4134 images belonging to 2 classes.\n",
      "Classes: {'Parasitized': 0, 'Uninfected': 1}\n",
      "Training samples: 19290\n"
     ]
    }
   ],
   "source": [
    "# Create data generators which will read images from the directory, apply transformations, and yield batches of images and labels\n",
    "train_gen = train_datagen.flow_from_directory(\n",
    "    'data_split/train',\n",
    "    target_size=(IMG_SIZE, IMG_SIZE),\n",
    "    batch_size=BATCH_SIZE,\n",
    "    class_mode='binary',\n",
    "    shuffle=True\n",
    ")\n",
    "\n",
    "val_gen = val_datagen.flow_from_directory(\n",
    "    'data_split/val',\n",
    "    target_size=(IMG_SIZE, IMG_SIZE),\n",
    "    batch_size=BATCH_SIZE,\n",
    "    class_mode='binary',\n",
    "    shuffle=False\n",
    ")\n",
    "\n",
    "test_gen = val_datagen.flow_from_directory(\n",
    "    'data_split/test',\n",
    "    target_size=(IMG_SIZE, IMG_SIZE),\n",
    "    batch_size=BATCH_SIZE,\n",
    "    class_mode='binary',\n",
    "    shuffle=False\n",
    ")\n",
    "\n",
    "print(f\"Classes: {train_gen.class_indices}\")\n",
    "print(f\"Training samples: {train_gen.samples}\")"
   ]
  },
  {
   "cell_type": "markdown",
   "id": "2ee680bc",
   "metadata": {},
   "source": [
    "## Advanced CNN Architecture\n",
    "\n",
    "An advanced Convolutional Neural Network (CNN) architecture has been designed and implemented with optimizations aimed at achieving faster training convergence while maintaining high performance. The model is constructed using the Keras Sequential API, incorporating several key layers to effectively process image data.\n",
    "\n",
    "The architecture consists of the following layers:\n",
    "\n",
    "- **Input Layer:** Specifies the input shape for the images, which is set to (IMG_SIZE, IMG_SIZE, 3) to accommodate images of a defined size with three color channels (RGB).\n",
    "\n",
    "- **Convolutional Blocks:** The model utilizes four convolutional blocks. Each block typically includes:\n",
    "    - **Conv2D:** Convolutional layers with ReLU activation and 'same' padding to extract features from the input images. The number of filters increases in subsequent blocks (32, 64, 128, 256).\n",
    "    - **BatchNormalization:** Applied after each convolutional layer to normalize the activations, which helps in stabilizing and accelerating the training process.\n",
    "    - **MaxPooling2D:** Used to downsample the feature maps, reducing the spatial dimensions and computational complexity while retaining important features.\n",
    "    - **Dropout:** Implemented after the pooling layers to randomly set a fraction of input units to zero during training, which acts as a regularization technique to prevent overfitting. The dropout rate is slightly increased in later blocks (0.25, 0.25, 0.3, 0.3).\n",
    "\n",
    "- **Output Layer:** A dense layer with a single unit and a sigmoid activation function is used for binary classification. The sigmoid function outputs a value between 0 and 1, representing the probability of the positive class.\n"
   ]
  },
  {
   "cell_type": "code",
   "execution_count": 4,
   "id": "2271e179",
   "metadata": {},
   "outputs": [
    {
     "name": "stdout",
     "output_type": "stream",
     "text": [
      "\n",
      "Optimized Model Architecture:\n"
     ]
    },
    {
     "data": {
      "text/html": [
       "<pre style=\"white-space:pre;overflow-x:auto;line-height:normal;font-family:Menlo,'DejaVu Sans Mono',consolas,'Courier New',monospace\"><span style=\"font-weight: bold\">Model: \"sequential\"</span>\n",
       "</pre>\n"
      ],
      "text/plain": [
       "\u001b[1mModel: \"sequential\"\u001b[0m\n"
      ]
     },
     "metadata": {},
     "output_type": "display_data"
    },
    {
     "data": {
      "text/html": [
       "<pre style=\"white-space:pre;overflow-x:auto;line-height:normal;font-family:Menlo,'DejaVu Sans Mono',consolas,'Courier New',monospace\">┏━━━━━━━━━━━━━━━━━━━━━━━━━━━━━━━━━┳━━━━━━━━━━━━━━━━━━━━━━━━┳━━━━━━━━━━━━━━━┓\n",
       "┃<span style=\"font-weight: bold\"> Layer (type)                    </span>┃<span style=\"font-weight: bold\"> Output Shape           </span>┃<span style=\"font-weight: bold\">       Param # </span>┃\n",
       "┡━━━━━━━━━━━━━━━━━━━━━━━━━━━━━━━━━╇━━━━━━━━━━━━━━━━━━━━━━━━╇━━━━━━━━━━━━━━━┩\n",
       "│ conv2d (<span style=\"color: #0087ff; text-decoration-color: #0087ff\">Conv2D</span>)                 │ (<span style=\"color: #00d7ff; text-decoration-color: #00d7ff\">None</span>, <span style=\"color: #00af00; text-decoration-color: #00af00\">128</span>, <span style=\"color: #00af00; text-decoration-color: #00af00\">128</span>, <span style=\"color: #00af00; text-decoration-color: #00af00\">32</span>)   │           <span style=\"color: #00af00; text-decoration-color: #00af00\">896</span> │\n",
       "├─────────────────────────────────┼────────────────────────┼───────────────┤\n",
       "│ batch_normalization             │ (<span style=\"color: #00d7ff; text-decoration-color: #00d7ff\">None</span>, <span style=\"color: #00af00; text-decoration-color: #00af00\">128</span>, <span style=\"color: #00af00; text-decoration-color: #00af00\">128</span>, <span style=\"color: #00af00; text-decoration-color: #00af00\">32</span>)   │           <span style=\"color: #00af00; text-decoration-color: #00af00\">128</span> │\n",
       "│ (<span style=\"color: #0087ff; text-decoration-color: #0087ff\">BatchNormalization</span>)            │                        │               │\n",
       "├─────────────────────────────────┼────────────────────────┼───────────────┤\n",
       "│ max_pooling2d (<span style=\"color: #0087ff; text-decoration-color: #0087ff\">MaxPooling2D</span>)    │ (<span style=\"color: #00d7ff; text-decoration-color: #00d7ff\">None</span>, <span style=\"color: #00af00; text-decoration-color: #00af00\">64</span>, <span style=\"color: #00af00; text-decoration-color: #00af00\">64</span>, <span style=\"color: #00af00; text-decoration-color: #00af00\">32</span>)     │             <span style=\"color: #00af00; text-decoration-color: #00af00\">0</span> │\n",
       "├─────────────────────────────────┼────────────────────────┼───────────────┤\n",
       "│ dropout (<span style=\"color: #0087ff; text-decoration-color: #0087ff\">Dropout</span>)               │ (<span style=\"color: #00d7ff; text-decoration-color: #00d7ff\">None</span>, <span style=\"color: #00af00; text-decoration-color: #00af00\">64</span>, <span style=\"color: #00af00; text-decoration-color: #00af00\">64</span>, <span style=\"color: #00af00; text-decoration-color: #00af00\">32</span>)     │             <span style=\"color: #00af00; text-decoration-color: #00af00\">0</span> │\n",
       "├─────────────────────────────────┼────────────────────────┼───────────────┤\n",
       "│ conv2d_1 (<span style=\"color: #0087ff; text-decoration-color: #0087ff\">Conv2D</span>)               │ (<span style=\"color: #00d7ff; text-decoration-color: #00d7ff\">None</span>, <span style=\"color: #00af00; text-decoration-color: #00af00\">64</span>, <span style=\"color: #00af00; text-decoration-color: #00af00\">64</span>, <span style=\"color: #00af00; text-decoration-color: #00af00\">64</span>)     │        <span style=\"color: #00af00; text-decoration-color: #00af00\">18,496</span> │\n",
       "├─────────────────────────────────┼────────────────────────┼───────────────┤\n",
       "│ batch_normalization_1           │ (<span style=\"color: #00d7ff; text-decoration-color: #00d7ff\">None</span>, <span style=\"color: #00af00; text-decoration-color: #00af00\">64</span>, <span style=\"color: #00af00; text-decoration-color: #00af00\">64</span>, <span style=\"color: #00af00; text-decoration-color: #00af00\">64</span>)     │           <span style=\"color: #00af00; text-decoration-color: #00af00\">256</span> │\n",
       "│ (<span style=\"color: #0087ff; text-decoration-color: #0087ff\">BatchNormalization</span>)            │                        │               │\n",
       "├─────────────────────────────────┼────────────────────────┼───────────────┤\n",
       "│ max_pooling2d_1 (<span style=\"color: #0087ff; text-decoration-color: #0087ff\">MaxPooling2D</span>)  │ (<span style=\"color: #00d7ff; text-decoration-color: #00d7ff\">None</span>, <span style=\"color: #00af00; text-decoration-color: #00af00\">32</span>, <span style=\"color: #00af00; text-decoration-color: #00af00\">32</span>, <span style=\"color: #00af00; text-decoration-color: #00af00\">64</span>)     │             <span style=\"color: #00af00; text-decoration-color: #00af00\">0</span> │\n",
       "├─────────────────────────────────┼────────────────────────┼───────────────┤\n",
       "│ dropout_1 (<span style=\"color: #0087ff; text-decoration-color: #0087ff\">Dropout</span>)             │ (<span style=\"color: #00d7ff; text-decoration-color: #00d7ff\">None</span>, <span style=\"color: #00af00; text-decoration-color: #00af00\">32</span>, <span style=\"color: #00af00; text-decoration-color: #00af00\">32</span>, <span style=\"color: #00af00; text-decoration-color: #00af00\">64</span>)     │             <span style=\"color: #00af00; text-decoration-color: #00af00\">0</span> │\n",
       "├─────────────────────────────────┼────────────────────────┼───────────────┤\n",
       "│ conv2d_2 (<span style=\"color: #0087ff; text-decoration-color: #0087ff\">Conv2D</span>)               │ (<span style=\"color: #00d7ff; text-decoration-color: #00d7ff\">None</span>, <span style=\"color: #00af00; text-decoration-color: #00af00\">32</span>, <span style=\"color: #00af00; text-decoration-color: #00af00\">32</span>, <span style=\"color: #00af00; text-decoration-color: #00af00\">128</span>)    │        <span style=\"color: #00af00; text-decoration-color: #00af00\">73,856</span> │\n",
       "├─────────────────────────────────┼────────────────────────┼───────────────┤\n",
       "│ batch_normalization_2           │ (<span style=\"color: #00d7ff; text-decoration-color: #00d7ff\">None</span>, <span style=\"color: #00af00; text-decoration-color: #00af00\">32</span>, <span style=\"color: #00af00; text-decoration-color: #00af00\">32</span>, <span style=\"color: #00af00; text-decoration-color: #00af00\">128</span>)    │           <span style=\"color: #00af00; text-decoration-color: #00af00\">512</span> │\n",
       "│ (<span style=\"color: #0087ff; text-decoration-color: #0087ff\">BatchNormalization</span>)            │                        │               │\n",
       "├─────────────────────────────────┼────────────────────────┼───────────────┤\n",
       "│ max_pooling2d_2 (<span style=\"color: #0087ff; text-decoration-color: #0087ff\">MaxPooling2D</span>)  │ (<span style=\"color: #00d7ff; text-decoration-color: #00d7ff\">None</span>, <span style=\"color: #00af00; text-decoration-color: #00af00\">16</span>, <span style=\"color: #00af00; text-decoration-color: #00af00\">16</span>, <span style=\"color: #00af00; text-decoration-color: #00af00\">128</span>)    │             <span style=\"color: #00af00; text-decoration-color: #00af00\">0</span> │\n",
       "├─────────────────────────────────┼────────────────────────┼───────────────┤\n",
       "│ dropout_2 (<span style=\"color: #0087ff; text-decoration-color: #0087ff\">Dropout</span>)             │ (<span style=\"color: #00d7ff; text-decoration-color: #00d7ff\">None</span>, <span style=\"color: #00af00; text-decoration-color: #00af00\">16</span>, <span style=\"color: #00af00; text-decoration-color: #00af00\">16</span>, <span style=\"color: #00af00; text-decoration-color: #00af00\">128</span>)    │             <span style=\"color: #00af00; text-decoration-color: #00af00\">0</span> │\n",
       "├─────────────────────────────────┼────────────────────────┼───────────────┤\n",
       "│ conv2d_3 (<span style=\"color: #0087ff; text-decoration-color: #0087ff\">Conv2D</span>)               │ (<span style=\"color: #00d7ff; text-decoration-color: #00d7ff\">None</span>, <span style=\"color: #00af00; text-decoration-color: #00af00\">16</span>, <span style=\"color: #00af00; text-decoration-color: #00af00\">16</span>, <span style=\"color: #00af00; text-decoration-color: #00af00\">128</span>)    │       <span style=\"color: #00af00; text-decoration-color: #00af00\">147,584</span> │\n",
       "├─────────────────────────────────┼────────────────────────┼───────────────┤\n",
       "│ batch_normalization_3           │ (<span style=\"color: #00d7ff; text-decoration-color: #00d7ff\">None</span>, <span style=\"color: #00af00; text-decoration-color: #00af00\">16</span>, <span style=\"color: #00af00; text-decoration-color: #00af00\">16</span>, <span style=\"color: #00af00; text-decoration-color: #00af00\">128</span>)    │           <span style=\"color: #00af00; text-decoration-color: #00af00\">512</span> │\n",
       "│ (<span style=\"color: #0087ff; text-decoration-color: #0087ff\">BatchNormalization</span>)            │                        │               │\n",
       "├─────────────────────────────────┼────────────────────────┼───────────────┤\n",
       "│ global_average_pooling2d        │ (<span style=\"color: #00d7ff; text-decoration-color: #00d7ff\">None</span>, <span style=\"color: #00af00; text-decoration-color: #00af00\">128</span>)            │             <span style=\"color: #00af00; text-decoration-color: #00af00\">0</span> │\n",
       "│ (<span style=\"color: #0087ff; text-decoration-color: #0087ff\">GlobalAveragePooling2D</span>)        │                        │               │\n",
       "├─────────────────────────────────┼────────────────────────┼───────────────┤\n",
       "│ dropout_3 (<span style=\"color: #0087ff; text-decoration-color: #0087ff\">Dropout</span>)             │ (<span style=\"color: #00d7ff; text-decoration-color: #00d7ff\">None</span>, <span style=\"color: #00af00; text-decoration-color: #00af00\">128</span>)            │             <span style=\"color: #00af00; text-decoration-color: #00af00\">0</span> │\n",
       "├─────────────────────────────────┼────────────────────────┼───────────────┤\n",
       "│ dense (<span style=\"color: #0087ff; text-decoration-color: #0087ff\">Dense</span>)                   │ (<span style=\"color: #00d7ff; text-decoration-color: #00d7ff\">None</span>, <span style=\"color: #00af00; text-decoration-color: #00af00\">1</span>)              │           <span style=\"color: #00af00; text-decoration-color: #00af00\">129</span> │\n",
       "└─────────────────────────────────┴────────────────────────┴───────────────┘\n",
       "</pre>\n"
      ],
      "text/plain": [
       "┏━━━━━━━━━━━━━━━━━━━━━━━━━━━━━━━━━┳━━━━━━━━━━━━━━━━━━━━━━━━┳━━━━━━━━━━━━━━━┓\n",
       "┃\u001b[1m \u001b[0m\u001b[1mLayer (type)                   \u001b[0m\u001b[1m \u001b[0m┃\u001b[1m \u001b[0m\u001b[1mOutput Shape          \u001b[0m\u001b[1m \u001b[0m┃\u001b[1m \u001b[0m\u001b[1m      Param #\u001b[0m\u001b[1m \u001b[0m┃\n",
       "┡━━━━━━━━━━━━━━━━━━━━━━━━━━━━━━━━━╇━━━━━━━━━━━━━━━━━━━━━━━━╇━━━━━━━━━━━━━━━┩\n",
       "│ conv2d (\u001b[38;5;33mConv2D\u001b[0m)                 │ (\u001b[38;5;45mNone\u001b[0m, \u001b[38;5;34m128\u001b[0m, \u001b[38;5;34m128\u001b[0m, \u001b[38;5;34m32\u001b[0m)   │           \u001b[38;5;34m896\u001b[0m │\n",
       "├─────────────────────────────────┼────────────────────────┼───────────────┤\n",
       "│ batch_normalization             │ (\u001b[38;5;45mNone\u001b[0m, \u001b[38;5;34m128\u001b[0m, \u001b[38;5;34m128\u001b[0m, \u001b[38;5;34m32\u001b[0m)   │           \u001b[38;5;34m128\u001b[0m │\n",
       "│ (\u001b[38;5;33mBatchNormalization\u001b[0m)            │                        │               │\n",
       "├─────────────────────────────────┼────────────────────────┼───────────────┤\n",
       "│ max_pooling2d (\u001b[38;5;33mMaxPooling2D\u001b[0m)    │ (\u001b[38;5;45mNone\u001b[0m, \u001b[38;5;34m64\u001b[0m, \u001b[38;5;34m64\u001b[0m, \u001b[38;5;34m32\u001b[0m)     │             \u001b[38;5;34m0\u001b[0m │\n",
       "├─────────────────────────────────┼────────────────────────┼───────────────┤\n",
       "│ dropout (\u001b[38;5;33mDropout\u001b[0m)               │ (\u001b[38;5;45mNone\u001b[0m, \u001b[38;5;34m64\u001b[0m, \u001b[38;5;34m64\u001b[0m, \u001b[38;5;34m32\u001b[0m)     │             \u001b[38;5;34m0\u001b[0m │\n",
       "├─────────────────────────────────┼────────────────────────┼───────────────┤\n",
       "│ conv2d_1 (\u001b[38;5;33mConv2D\u001b[0m)               │ (\u001b[38;5;45mNone\u001b[0m, \u001b[38;5;34m64\u001b[0m, \u001b[38;5;34m64\u001b[0m, \u001b[38;5;34m64\u001b[0m)     │        \u001b[38;5;34m18,496\u001b[0m │\n",
       "├─────────────────────────────────┼────────────────────────┼───────────────┤\n",
       "│ batch_normalization_1           │ (\u001b[38;5;45mNone\u001b[0m, \u001b[38;5;34m64\u001b[0m, \u001b[38;5;34m64\u001b[0m, \u001b[38;5;34m64\u001b[0m)     │           \u001b[38;5;34m256\u001b[0m │\n",
       "│ (\u001b[38;5;33mBatchNormalization\u001b[0m)            │                        │               │\n",
       "├─────────────────────────────────┼────────────────────────┼───────────────┤\n",
       "│ max_pooling2d_1 (\u001b[38;5;33mMaxPooling2D\u001b[0m)  │ (\u001b[38;5;45mNone\u001b[0m, \u001b[38;5;34m32\u001b[0m, \u001b[38;5;34m32\u001b[0m, \u001b[38;5;34m64\u001b[0m)     │             \u001b[38;5;34m0\u001b[0m │\n",
       "├─────────────────────────────────┼────────────────────────┼───────────────┤\n",
       "│ dropout_1 (\u001b[38;5;33mDropout\u001b[0m)             │ (\u001b[38;5;45mNone\u001b[0m, \u001b[38;5;34m32\u001b[0m, \u001b[38;5;34m32\u001b[0m, \u001b[38;5;34m64\u001b[0m)     │             \u001b[38;5;34m0\u001b[0m │\n",
       "├─────────────────────────────────┼────────────────────────┼───────────────┤\n",
       "│ conv2d_2 (\u001b[38;5;33mConv2D\u001b[0m)               │ (\u001b[38;5;45mNone\u001b[0m, \u001b[38;5;34m32\u001b[0m, \u001b[38;5;34m32\u001b[0m, \u001b[38;5;34m128\u001b[0m)    │        \u001b[38;5;34m73,856\u001b[0m │\n",
       "├─────────────────────────────────┼────────────────────────┼───────────────┤\n",
       "│ batch_normalization_2           │ (\u001b[38;5;45mNone\u001b[0m, \u001b[38;5;34m32\u001b[0m, \u001b[38;5;34m32\u001b[0m, \u001b[38;5;34m128\u001b[0m)    │           \u001b[38;5;34m512\u001b[0m │\n",
       "│ (\u001b[38;5;33mBatchNormalization\u001b[0m)            │                        │               │\n",
       "├─────────────────────────────────┼────────────────────────┼───────────────┤\n",
       "│ max_pooling2d_2 (\u001b[38;5;33mMaxPooling2D\u001b[0m)  │ (\u001b[38;5;45mNone\u001b[0m, \u001b[38;5;34m16\u001b[0m, \u001b[38;5;34m16\u001b[0m, \u001b[38;5;34m128\u001b[0m)    │             \u001b[38;5;34m0\u001b[0m │\n",
       "├─────────────────────────────────┼────────────────────────┼───────────────┤\n",
       "│ dropout_2 (\u001b[38;5;33mDropout\u001b[0m)             │ (\u001b[38;5;45mNone\u001b[0m, \u001b[38;5;34m16\u001b[0m, \u001b[38;5;34m16\u001b[0m, \u001b[38;5;34m128\u001b[0m)    │             \u001b[38;5;34m0\u001b[0m │\n",
       "├─────────────────────────────────┼────────────────────────┼───────────────┤\n",
       "│ conv2d_3 (\u001b[38;5;33mConv2D\u001b[0m)               │ (\u001b[38;5;45mNone\u001b[0m, \u001b[38;5;34m16\u001b[0m, \u001b[38;5;34m16\u001b[0m, \u001b[38;5;34m128\u001b[0m)    │       \u001b[38;5;34m147,584\u001b[0m │\n",
       "├─────────────────────────────────┼────────────────────────┼───────────────┤\n",
       "│ batch_normalization_3           │ (\u001b[38;5;45mNone\u001b[0m, \u001b[38;5;34m16\u001b[0m, \u001b[38;5;34m16\u001b[0m, \u001b[38;5;34m128\u001b[0m)    │           \u001b[38;5;34m512\u001b[0m │\n",
       "│ (\u001b[38;5;33mBatchNormalization\u001b[0m)            │                        │               │\n",
       "├─────────────────────────────────┼────────────────────────┼───────────────┤\n",
       "│ global_average_pooling2d        │ (\u001b[38;5;45mNone\u001b[0m, \u001b[38;5;34m128\u001b[0m)            │             \u001b[38;5;34m0\u001b[0m │\n",
       "│ (\u001b[38;5;33mGlobalAveragePooling2D\u001b[0m)        │                        │               │\n",
       "├─────────────────────────────────┼────────────────────────┼───────────────┤\n",
       "│ dropout_3 (\u001b[38;5;33mDropout\u001b[0m)             │ (\u001b[38;5;45mNone\u001b[0m, \u001b[38;5;34m128\u001b[0m)            │             \u001b[38;5;34m0\u001b[0m │\n",
       "├─────────────────────────────────┼────────────────────────┼───────────────┤\n",
       "│ dense (\u001b[38;5;33mDense\u001b[0m)                   │ (\u001b[38;5;45mNone\u001b[0m, \u001b[38;5;34m1\u001b[0m)              │           \u001b[38;5;34m129\u001b[0m │\n",
       "└─────────────────────────────────┴────────────────────────┴───────────────┘\n"
      ]
     },
     "metadata": {},
     "output_type": "display_data"
    },
    {
     "data": {
      "text/html": [
       "<pre style=\"white-space:pre;overflow-x:auto;line-height:normal;font-family:Menlo,'DejaVu Sans Mono',consolas,'Courier New',monospace\"><span style=\"font-weight: bold\"> Total params: </span><span style=\"color: #00af00; text-decoration-color: #00af00\">242,369</span> (946.75 KB)\n",
       "</pre>\n"
      ],
      "text/plain": [
       "\u001b[1m Total params: \u001b[0m\u001b[38;5;34m242,369\u001b[0m (946.75 KB)\n"
      ]
     },
     "metadata": {},
     "output_type": "display_data"
    },
    {
     "data": {
      "text/html": [
       "<pre style=\"white-space:pre;overflow-x:auto;line-height:normal;font-family:Menlo,'DejaVu Sans Mono',consolas,'Courier New',monospace\"><span style=\"font-weight: bold\"> Trainable params: </span><span style=\"color: #00af00; text-decoration-color: #00af00\">241,665</span> (944.00 KB)\n",
       "</pre>\n"
      ],
      "text/plain": [
       "\u001b[1m Trainable params: \u001b[0m\u001b[38;5;34m241,665\u001b[0m (944.00 KB)\n"
      ]
     },
     "metadata": {},
     "output_type": "display_data"
    },
    {
     "data": {
      "text/html": [
       "<pre style=\"white-space:pre;overflow-x:auto;line-height:normal;font-family:Menlo,'DejaVu Sans Mono',consolas,'Courier New',monospace\"><span style=\"font-weight: bold\"> Non-trainable params: </span><span style=\"color: #00af00; text-decoration-color: #00af00\">704</span> (2.75 KB)\n",
       "</pre>\n"
      ],
      "text/plain": [
       "\u001b[1m Non-trainable params: \u001b[0m\u001b[38;5;34m704\u001b[0m (2.75 KB)\n"
      ]
     },
     "metadata": {},
     "output_type": "display_data"
    }
   ],
   "source": [
    "# Building an advanced CNN architecture with optimizations for faster training\n",
    "def build_advanced_cnn():\n",
    "    \"\"\"Create optimized CNN for faster training\"\"\"\n",
    "    \n",
    "    model = keras.Sequential()\n",
    "    \n",
    "    # Input layer\n",
    "    model.add(layers.Input(shape=(IMG_SIZE, IMG_SIZE, 3)))\n",
    "    \n",
    "    # Block 1 - Smaller filters initially\n",
    "    model.add(layers.Conv2D(32, 3, activation='relu', padding='same'))\n",
    "    model.add(layers.BatchNormalization())\n",
    "    model.add(layers.MaxPooling2D(2))\n",
    "    model.add(layers.Dropout(0.25))\n",
    "    \n",
    "    # Block 2\n",
    "    model.add(layers.Conv2D(64, 3, activation='relu', padding='same'))\n",
    "    model.add(layers.BatchNormalization())\n",
    "    model.add(layers.MaxPooling2D(2))\n",
    "    model.add(layers.Dropout(0.25))\n",
    "    \n",
    "    # Block 3\n",
    "    model.add(layers.Conv2D(128, 3, activation='relu', padding='same'))\n",
    "    model.add(layers.BatchNormalization())\n",
    "    model.add(layers.MaxPooling2D(2))\n",
    "    model.add(layers.Dropout(0.3))\n",
    "    \n",
    "    # Block 4 - Deeper features + pooling before dense\n",
    "    model.add(layers.Conv2D(128, 3, activation='relu', padding='same'))\n",
    "    model.add(layers.BatchNormalization())\n",
    "    model.add(layers.GlobalAveragePooling2D())\n",
    "    model.add(layers.Dropout(0.5))\n",
    "    \n",
    "    # Output layer (for binary classification)\n",
    "    model.add(layers.Dense(1, activation='sigmoid'))\n",
    "    \n",
    "    return model\n",
    "\n",
    "\n",
    "# Build and display model\n",
    "fast_model = build_advanced_cnn()\n",
    "print(\"\\nOptimized Model Architecture:\")\n",
    "fast_model.summary()\n"
   ]
  },
  {
   "cell_type": "markdown",
   "id": "54c7b749",
   "metadata": {},
   "source": [
    "## Model Configuration\n",
    "\n",
    "The advanced CNN model is configured for training with optimized settings to facilitate faster convergence and improve performance.\n",
    "\n",
    "- **Optimizer:** The Adam optimizer is selected with a specified learning rate (defaulting to 0.001) and default values for beta_1, beta_2, and epsilon. Adam is an adaptive learning rate optimization algorithm that is widely used for training deep neural networks due to its efficiency and effectiveness.\n",
    "\n",
    "- **Loss Function:** Binary cross-entropy is chosen as the loss function. This is a standard loss function for binary classification problems, measuring the difference between the predicted probabilities and the true binary labels.\n",
    "\n",
    "- **Metrics:** The model is configured to track several important metrics during training and evaluation, including:\n",
    "    - **Accuracy:** The proportion of correctly classified instances.\n",
    "    - **Precision:** The ability of the model to identify only relevant instances (true positives out of all positive predictions).\n",
    "    - **Recall:** The ability of the model to find all relevant instances (true positives out of all actual positives).\n",
    "\n"
   ]
  },
  {
   "cell_type": "code",
   "execution_count": 5,
   "id": "d4080b6b",
   "metadata": {},
   "outputs": [],
   "source": [
    "# configure the model with optimized settings\n",
    "\n",
    "def configure_advanced_model(model, learning_rate=0.001):\n",
    "    \"\"\"Configure model with optimized settings\"\"\"\n",
    "    model.compile(\n",
    "        optimizer=keras.optimizers.Adam(\n",
    "            learning_rate=learning_rate,\n",
    "            beta_1=0.9,\n",
    "            beta_2=0.999,\n",
    "            epsilon=1e-07\n",
    "        ),\n",
    "        loss='binary_crossentropy',\n",
    "        metrics=['accuracy', 'precision', 'recall']\n",
    "    )\n",
    "    return model\n"
   ]
  },
  {
   "cell_type": "markdown",
   "id": "a087c12a",
   "metadata": {},
   "source": []
  },
  {
   "cell_type": "code",
   "execution_count": 6,
   "id": "1fc68982",
   "metadata": {},
   "outputs": [],
   "source": [
    "def run_fast_training(model, epochs=20):\n",
    "    \"\"\"Optimized training with faster convergence - FIXED\"\"\"\n",
    "    \n",
    "    callbacks = [\n",
    "        keras.callbacks.EarlyStopping(\n",
    "            monitor='val_accuracy',  \n",
    "            patience=6,  \n",
    "            restore_best_weights=True,\n",
    "            min_delta=0.001  \n",
    "        ),\n",
    "        keras.callbacks.ReduceLROnPlateau(\n",
    "            monitor='val_loss',\n",
    "            factor=0.5,\n",
    "            patience=3,  \n",
    "            min_lr=1e-7,\n",
    "            verbose=1\n",
    "        ),\n",
    "        keras.callbacks.ModelCheckpoint(\n",
    "            'advanced_model.h5',\n",
    "            monitor='val_accuracy',\n",
    "            save_best_only=True,\n",
    "            verbose=0\n",
    "        )\n",
    "    ]\n",
    "    \n",
    "    print(\"\\n Starting optimized training...\")\n",
    "    \n",
    "    # Calculate steps per epoch\n",
    "    steps_per_epoch = max(1, train_gen.samples // BATCH_SIZE)\n",
    "    validation_steps = max(1, val_gen.samples // BATCH_SIZE)\n",
    "    \n",
    "\n",
    "    history = model.fit(\n",
    "        train_gen,\n",
    "        steps_per_epoch=steps_per_epoch,\n",
    "        epochs=epochs,\n",
    "        validation_data=val_gen,\n",
    "        validation_steps=validation_steps,\n",
    "        callbacks=callbacks,\n",
    "        verbose=1\n",
    "    )\n",
    "    \n",
    "    return history"
   ]
  },
  {
   "cell_type": "markdown",
   "id": "4c3be18c",
   "metadata": {},
   "source": [
    "## Model Evaluation and Metric Calculation\n",
    "\n",
    "To assess the performance of the trained advanced CNN model, a dedicated function is implemented for efficient evaluation. This function takes the trained model and the test data generator as input and computes essential classification metrics.\n",
    "\n",
    "The evaluation process involves the following steps:\n",
    "\n",
    "- **Prediction:** The model predicts the class probabilities for the images in the test dataset using a larger batch size (`BATCH_SIZE*2`) for faster processing.\n",
    "- **Class Conversion:** The predicted probabilities are converted into binary class labels by applying a threshold of 0.5.\n",
    "- **Metric Calculation:** The function calculates the following key performance metrics using the true class labels from the test data and the predicted class labels:\n",
    "    - **Accuracy:** The overall proportion of correctly classified instances.\n",
    "    - **Precision:** The ability of the model to avoid false positives.\n",
    "    - **Recall:** The ability of the model to find all positive instances.\n",
    "    - **F1-Score:** The harmonic mean of precision and recall, providing a balanced measure of the model's performance.\n"
   ]
  },
  {
   "cell_type": "code",
   "execution_count": 7,
   "id": "13cd1f8c",
   "metadata": {},
   "outputs": [],
   "source": [
    "def calculating_metrics(model, test_data):\n",
    "    \"\"\"Fast metric calculation\"\"\"\n",
    "    \n",
    "    print(\"🔍 Running fast evaluation...\")\n",
    "    \n",
    "    # Use larger batch size for faster prediction\n",
    "    predictions = model.predict(test_data, batch_size=BATCH_SIZE*2, verbose=1)\n",
    "    predicted_classes = (predictions > 0.5).astype(int).flatten()\n",
    "    true_classes = test_data.classes\n",
    "    \n",
    "    # Calculate only essential metrics initially\n",
    "    accuracy = accuracy_score(true_classes, predicted_classes)\n",
    "    precision = precision_score(true_classes, predicted_classes)\n",
    "    recall = recall_score(true_classes, predicted_classes)\n",
    "    f1 = f1_score(true_classes, predicted_classes)\n",
    "    \n",
    "    return {\n",
    "        'accuracy': accuracy,\n",
    "        'precision': precision,\n",
    "        'recall': recall,\n",
    "        'f1_score': f1,\n",
    "        'predictions': predictions,\n",
    "        'true_classes': true_classes\n",
    "    }\n"
   ]
  },
  {
   "cell_type": "markdown",
   "id": "1951fa76",
   "metadata": {},
   "source": [
    "## Visualization\n",
    "\n",
    "To provide a clear understanding of the advanced CNN model's performance and training progress results as input and produces a single figure with multiple subplots:\n",
    "\n",
    "- **Accuracy Plot:** Displays the training and validation accuracy across epochs, allowing for the assessment of the model's learning trend and potential overfitting.\n",
    "- **Loss Plot:** Shows the training and validation loss over epochs, indicating how well the model is converging and minimizing errors.\n",
    "- **Test Metrics Bar Chart:** Presents a bar chart comparing the key performance metrics (Accuracy, Precision, Recall, and F1-Score) on the test set. This provides a concise summary of the model's performance on unseen data. The values of each metric are displayed on top of the bars for easy interpretation.\n",
    "- **ROC Curve:** Plots the Receiver Operating Characteristic (ROC) curve, which illustrates the trade-off between the true positive rate (sensitivity) and the false positive rate (1-specificity) at various threshold settings. The Area Under the Curve (AUC) is calculated and displayed, providing a single scalar value that summarizes the overall discriminatory power of the model.\n",
    "\n"
   ]
  },
  {
   "cell_type": "code",
   "execution_count": 8,
   "id": "1383ae0c",
   "metadata": {},
   "outputs": [],
   "source": [
    "def create_visualizations(history, results):\n",
    "    \"\"\"Create essential visualizations only\"\"\"\n",
    "    \n",
    "    # Single figure with subplots\n",
    "    fig, ((ax1, ax2), (ax3, ax4)) = plt.subplots(2, 2, figsize=(12, 8))\n",
    "    \n",
    "    # Accuracy\n",
    "    ax1.plot(history.history['accuracy'], label='Train', linewidth=2)\n",
    "    ax1.plot(history.history['val_accuracy'], label='Val', linewidth=2)\n",
    "    ax1.set_title('Accuracy')\n",
    "    ax1.legend()\n",
    "    ax1.grid(True, alpha=0.3)\n",
    "    \n",
    "    # Loss\n",
    "    ax2.plot(history.history['loss'], label='Train', linewidth=2)\n",
    "    ax2.plot(history.history['val_loss'], label='Val', linewidth=2)\n",
    "    ax2.set_title('Loss')\n",
    "    ax2.legend()\n",
    "    ax2.grid(True, alpha=0.3)\n",
    "    \n",
    "    # Metrics comparison\n",
    "    metrics = ['Accuracy', 'Precision', 'Recall', 'F1']\n",
    "    values = [results['accuracy'], results['precision'], \n",
    "             results['recall'], results['f1_score']]\n",
    "    \n",
    "    bars = ax3.bar(metrics, values, color=['#2E86AB', '#A23B72', '#F18F01', '#C73E1D'])\n",
    "    ax3.set_title('Test Metrics')\n",
    "    ax3.set_ylim(0, 1)\n",
    "    \n",
    "    # Add values on bars\n",
    "    for bar, value in zip(bars, values):\n",
    "        height = bar.get_height()\n",
    "        ax3.text(bar.get_x() + bar.get_width()/2., height + 0.01,\n",
    "                f'{value:.3f}', ha='center', va='bottom')\n",
    "    \n",
    "    # ROC Curve (only if needed)\n",
    "    fpr, tpr, _ = roc_curve(results['true_classes'], results['predictions'])\n",
    "    roc_auc = auc(fpr, tpr)\n",
    "    \n",
    "    ax4.plot(fpr, tpr, color='darkorange', linewidth=2, \n",
    "             label=f'AUC = {roc_auc:.3f}')\n",
    "    ax4.plot([0, 1], [0, 1], 'k--', alpha=0.5)\n",
    "    ax4.set_title('ROC Curve')\n",
    "    ax4.legend()\n",
    "    ax4.grid(True, alpha=0.3)\n",
    "    \n",
    "    plt.tight_layout()\n",
    "    plt.savefig('fast_model_results.png', dpi=150, bbox_inches='tight')  # Lower DPI\n",
    "    plt.show()\n"
   ]
  },
  {
   "cell_type": "code",
   "execution_count": 9,
   "id": "af91c1d7",
   "metadata": {},
   "outputs": [
    {
     "name": "stdout",
     "output_type": "stream",
     "text": [
      "⚡ Starting OPTIMIZED CNN Training...\n",
      "\n",
      " Starting optimized training...\n"
     ]
    },
    {
     "name": "stderr",
     "output_type": "stream",
     "text": [
      "/Users/Zhuanz/formative2group4/.venv/lib/python3.9/site-packages/keras/src/trainers/data_adapters/py_dataset_adapter.py:121: UserWarning: Your `PyDataset` class should call `super().__init__(**kwargs)` in its constructor. `**kwargs` can include `workers`, `use_multiprocessing`, `max_queue_size`. Do not pass these arguments to `fit()`, as they will be ignored.\n",
      "  self._warn_if_super_not_called()\n"
     ]
    },
    {
     "name": "stdout",
     "output_type": "stream",
     "text": [
      "Epoch 1/20\n",
      "\u001b[1m301/301\u001b[0m \u001b[32m━━━━━━━━━━━━━━━━━━━━\u001b[0m\u001b[37m\u001b[0m \u001b[1m0s\u001b[0m 2s/step - accuracy: 0.7268 - loss: 0.5369 - precision: 0.7039 - recall: 0.7826"
     ]
    },
    {
     "name": "stderr",
     "output_type": "stream",
     "text": [
      "WARNING:absl:You are saving your model as an HDF5 file via `model.save()` or `keras.saving.save_model(model)`. This file format is considered legacy. We recommend using instead the native Keras format, e.g. `model.save('my_model.keras')` or `keras.saving.save_model(model, 'my_model.keras')`. \n"
     ]
    },
    {
     "name": "stdout",
     "output_type": "stream",
     "text": [
      "\u001b[1m301/301\u001b[0m \u001b[32m━━━━━━━━━━━━━━━━━━━━\u001b[0m\u001b[37m\u001b[0m \u001b[1m782s\u001b[0m 3s/step - accuracy: 0.7271 - loss: 0.5365 - precision: 0.7042 - recall: 0.7829 - val_accuracy: 0.4883 - val_loss: 1.4143 - val_precision: 0.4309 - val_recall: 0.1030 - learning_rate: 0.0010\n",
      "Epoch 2/20\n",
      "\u001b[1m  1/301\u001b[0m \u001b[37m━━━━━━━━━━━━━━━━━━━━\u001b[0m \u001b[1m12:27\u001b[0m 2s/step - accuracy: 0.8750 - loss: 0.3462 - precision: 0.8537 - recall: 0.9459"
     ]
    },
    {
     "name": "stderr",
     "output_type": "stream",
     "text": [
      "/Users/Zhuanz/formative2group4/.venv/lib/python3.9/site-packages/keras/src/trainers/epoch_iterator.py:116: UserWarning: Your input ran out of data; interrupting training. Make sure that your dataset or generator can generate at least `steps_per_epoch * epochs` batches. You may need to use the `.repeat()` function when building your dataset.\n",
      "  self._interrupted_warning()\n"
     ]
    },
    {
     "name": "stdout",
     "output_type": "stream",
     "text": [
      "\u001b[1m301/301\u001b[0m \u001b[32m━━━━━━━━━━━━━━━━━━━━\u001b[0m\u001b[37m\u001b[0m \u001b[1m36s\u001b[0m 110ms/step - accuracy: 0.8750 - loss: 0.3462 - precision: 0.8537 - recall: 0.9459 - val_accuracy: 0.4880 - val_loss: 1.6168 - val_precision: 0.4050 - val_recall: 0.0715 - learning_rate: 0.0010\n",
      "Epoch 3/20\n",
      "\u001b[1m301/301\u001b[0m \u001b[32m━━━━━━━━━━━━━━━━━━━━\u001b[0m\u001b[37m\u001b[0m \u001b[1m0s\u001b[0m 3s/step - accuracy: 0.9099 - loss: 0.2476 - precision: 0.8790 - recall: 0.9535"
     ]
    },
    {
     "name": "stderr",
     "output_type": "stream",
     "text": [
      "WARNING:absl:You are saving your model as an HDF5 file via `model.save()` or `keras.saving.save_model(model)`. This file format is considered legacy. We recommend using instead the native Keras format, e.g. `model.save('my_model.keras')` or `keras.saving.save_model(model, 'my_model.keras')`. \n"
     ]
    },
    {
     "name": "stdout",
     "output_type": "stream",
     "text": [
      "\u001b[1m301/301\u001b[0m \u001b[32m━━━━━━━━━━━━━━━━━━━━\u001b[0m\u001b[37m\u001b[0m \u001b[1m851s\u001b[0m 3s/step - accuracy: 0.9099 - loss: 0.2476 - precision: 0.8790 - recall: 0.9535 - val_accuracy: 0.5339 - val_loss: 2.4085 - val_precision: 0.7419 - val_recall: 0.0907 - learning_rate: 0.0010\n",
      "Epoch 4/20\n",
      "\u001b[1m  1/301\u001b[0m \u001b[37m━━━━━━━━━━━━━━━━━━━━\u001b[0m \u001b[1m13:39\u001b[0m 3s/step - accuracy: 0.9219 - loss: 0.1806 - precision: 0.9032 - recall: 0.9333\n",
      "Epoch 4: ReduceLROnPlateau reducing learning rate to 0.0005000000237487257.\n"
     ]
    },
    {
     "name": "stderr",
     "output_type": "stream",
     "text": [
      "WARNING:absl:You are saving your model as an HDF5 file via `model.save()` or `keras.saving.save_model(model)`. This file format is considered legacy. We recommend using instead the native Keras format, e.g. `model.save('my_model.keras')` or `keras.saving.save_model(model, 'my_model.keras')`. \n"
     ]
    },
    {
     "name": "stdout",
     "output_type": "stream",
     "text": [
      "\u001b[1m301/301\u001b[0m \u001b[32m━━━━━━━━━━━━━━━━━━━━\u001b[0m\u001b[37m\u001b[0m \u001b[1m42s\u001b[0m 130ms/step - accuracy: 0.9219 - loss: 0.1806 - precision: 0.9032 - recall: 0.9333 - val_accuracy: 0.5444 - val_loss: 1.6247 - val_precision: 0.7185 - val_recall: 0.1321 - learning_rate: 0.0010\n",
      "Epoch 5/20\n",
      "\u001b[1m301/301\u001b[0m \u001b[32m━━━━━━━━━━━━━━━━━━━━\u001b[0m\u001b[37m\u001b[0m \u001b[1m0s\u001b[0m 3s/step - accuracy: 0.9297 - loss: 0.2052 - precision: 0.9010 - recall: 0.9640"
     ]
    },
    {
     "name": "stderr",
     "output_type": "stream",
     "text": [
      "WARNING:absl:You are saving your model as an HDF5 file via `model.save()` or `keras.saving.save_model(model)`. This file format is considered legacy. We recommend using instead the native Keras format, e.g. `model.save('my_model.keras')` or `keras.saving.save_model(model, 'my_model.keras')`. \n"
     ]
    },
    {
     "name": "stdout",
     "output_type": "stream",
     "text": [
      "\u001b[1m301/301\u001b[0m \u001b[32m━━━━━━━━━━━━━━━━━━━━\u001b[0m\u001b[37m\u001b[0m \u001b[1m795s\u001b[0m 3s/step - accuracy: 0.9297 - loss: 0.2052 - precision: 0.9010 - recall: 0.9640 - val_accuracy: 0.9207 - val_loss: 0.2483 - val_precision: 0.9347 - val_recall: 0.9029 - learning_rate: 5.0000e-04\n",
      "Epoch 6/20\n",
      "\u001b[1m  1/301\u001b[0m \u001b[37m━━━━━━━━━━━━━━━━━━━━\u001b[0m \u001b[1m12:03\u001b[0m 2s/step - accuracy: 0.8906 - loss: 0.2439 - precision: 0.8000 - recall: 0.9600"
     ]
    },
    {
     "name": "stderr",
     "output_type": "stream",
     "text": [
      "WARNING:absl:You are saving your model as an HDF5 file via `model.save()` or `keras.saving.save_model(model)`. This file format is considered legacy. We recommend using instead the native Keras format, e.g. `model.save('my_model.keras')` or `keras.saving.save_model(model, 'my_model.keras')`. \n"
     ]
    },
    {
     "name": "stdout",
     "output_type": "stream",
     "text": [
      "\u001b[1m301/301\u001b[0m \u001b[32m━━━━━━━━━━━━━━━━━━━━\u001b[0m\u001b[37m\u001b[0m \u001b[1m29s\u001b[0m 87ms/step - accuracy: 0.8906 - loss: 0.2439 - precision: 0.8000 - recall: 0.9600 - val_accuracy: 0.9402 - val_loss: 0.2261 - val_precision: 0.9360 - val_recall: 0.9438 - learning_rate: 5.0000e-04\n",
      "Epoch 7/20\n",
      "\u001b[1m301/301\u001b[0m \u001b[32m━━━━━━━━━━━━━━━━━━━━\u001b[0m\u001b[37m\u001b[0m \u001b[1m698s\u001b[0m 2s/step - accuracy: 0.9305 - loss: 0.2013 - precision: 0.9035 - recall: 0.9638 - val_accuracy: 0.9058 - val_loss: 0.2281 - val_precision: 0.8447 - val_recall: 0.9921 - learning_rate: 5.0000e-04\n",
      "Epoch 8/20\n",
      "\u001b[1m301/301\u001b[0m \u001b[32m━━━━━━━━━━━━━━━━━━━━\u001b[0m\u001b[37m\u001b[0m \u001b[1m36s\u001b[0m 112ms/step - accuracy: 0.9844 - loss: 0.0923 - precision: 0.9667 - recall: 1.0000 - val_accuracy: 0.8992 - val_loss: 0.2465 - val_precision: 0.8347 - val_recall: 0.9931 - learning_rate: 5.0000e-04\n",
      "Epoch 9/20\n",
      "\u001b[1m301/301\u001b[0m \u001b[32m━━━━━━━━━━━━━━━━━━━━\u001b[0m\u001b[37m\u001b[0m \u001b[1m0s\u001b[0m 4s/step - accuracy: 0.9335 - loss: 0.1950 - precision: 0.9084 - recall: 0.9644\n",
      "Epoch 9: ReduceLROnPlateau reducing learning rate to 0.0002500000118743628.\n",
      "\u001b[1m301/301\u001b[0m \u001b[32m━━━━━━━━━━━━━━━━━━━━\u001b[0m\u001b[37m\u001b[0m \u001b[1m1115s\u001b[0m 4s/step - accuracy: 0.9335 - loss: 0.1950 - precision: 0.9084 - recall: 0.9644 - val_accuracy: 0.8611 - val_loss: 0.4376 - val_precision: 0.7816 - val_recall: 0.9985 - learning_rate: 5.0000e-04\n",
      "Epoch 10/20\n",
      "\u001b[1m301/301\u001b[0m \u001b[32m━━━━━━━━━━━━━━━━━━━━\u001b[0m\u001b[37m\u001b[0m \u001b[1m35s\u001b[0m 107ms/step - accuracy: 0.9375 - loss: 0.1351 - precision: 0.9062 - recall: 0.9667 - val_accuracy: 0.8628 - val_loss: 0.4340 - val_precision: 0.7838 - val_recall: 0.9985 - learning_rate: 2.5000e-04\n",
      "Epoch 11/20\n",
      "\u001b[1m301/301\u001b[0m \u001b[32m━━━━━━━━━━━━━━━━━━━━\u001b[0m\u001b[37m\u001b[0m \u001b[1m818s\u001b[0m 3s/step - accuracy: 0.9354 - loss: 0.1895 - precision: 0.9106 - recall: 0.9667 - val_accuracy: 0.8906 - val_loss: 0.3300 - val_precision: 0.8228 - val_recall: 0.9931 - learning_rate: 2.5000e-04\n",
      "Epoch 12/20\n",
      "\u001b[1m  1/301\u001b[0m \u001b[37m━━━━━━━━━━━━━━━━━━━━\u001b[0m \u001b[1m12:04\u001b[0m 2s/step - accuracy: 0.9531 - loss: 0.1219 - precision: 0.9091 - recall: 1.0000\n",
      "Epoch 12: ReduceLROnPlateau reducing learning rate to 0.0001250000059371814.\n",
      "\u001b[1m301/301\u001b[0m \u001b[32m━━━━━━━━━━━━━━━━━━━━\u001b[0m\u001b[37m\u001b[0m \u001b[1m28s\u001b[0m 84ms/step - accuracy: 0.9531 - loss: 0.1219 - precision: 0.9091 - recall: 1.0000 - val_accuracy: 0.8855 - val_loss: 0.3454 - val_precision: 0.8140 - val_recall: 0.9966 - learning_rate: 2.5000e-04\n",
      "\n",
      "📊 Running fast evaluation...\n",
      "🔍 Running fast evaluation...\n",
      "\u001b[1m65/65\u001b[0m \u001b[32m━━━━━━━━━━━━━━━━━━━━\u001b[0m\u001b[37m\u001b[0m \u001b[1m26s\u001b[0m 397ms/step\n",
      "\n",
      "============================================================\n",
      "OPTIMIZED CNN RESULTS\n",
      "============================================================\n",
      "Training time: 88.2 minutes\n",
      "Accuracy:  0.9403\n",
      "Precision: 0.9443\n",
      "Recall:    0.9357\n",
      "F1-Score:  0.9400\n"
     ]
    },
    {
     "data": {
      "image/png": "[encoded data removed]",
      "text/plain": [
       "<Figure size 1200x800 with 4 Axes>"
      ]
     },
     "metadata": {},
     "output_type": "display_data"
    },
    {
     "name": "stderr",
     "output_type": "stream",
     "text": [
      "WARNING:absl:You are saving your model as an HDF5 file via `model.save()` or `keras.saving.save_model(model)`. This file format is considered legacy. We recommend using instead the native Keras format, e.g. `model.save('my_model.keras')` or `keras.saving.save_model(model, 'my_model.keras')`. \n"
     ]
    },
    {
     "name": "stdout",
     "output_type": "stream",
     "text": [
      "\n",
      " Model saved as 'advanced_cnn.h5'\n",
      "\n",
      " Optimized training complete in 88.2 minutes!\n"
     ]
    }
   ],
   "source": [
    "\n",
    "def main_fast():\n",
    "    \"\"\"Optimized main execution\"\"\"\n",
    "    \n",
    "    import time\n",
    "    start_time = time.time()\n",
    "    \n",
    "    print(\"⚡ Starting OPTIMIZED CNN Training...\")\n",
    "    \n",
    "    # Build and configure model\n",
    "    fast_model = build_advanced_cnn()\n",
    "    fast_model = configure_advanced_model(fast_model, learning_rate=0.001)\n",
    "    \n",
    "    # Train model\n",
    "    training_history = run_fast_training(fast_model, epochs=20)\n",
    "    \n",
    "    # Evaluate model\n",
    "    print(\"\\n📊 Running fast evaluation...\")\n",
    "    model_results = calculating_metrics(fast_model, test_gen)\n",
    "    \n",
    "    # Calculate execution time\n",
    "    end_time = time.time()\n",
    "    execution_time = (end_time - start_time) / 60\n",
    "    \n",
    "    # Display results\n",
    "    print(\"\\n\" + \"=\"*60)\n",
    "    print(\"OPTIMIZED CNN RESULTS\")\n",
    "    print(\"=\"*60)\n",
    "    print(f\"Training time: {execution_time:.1f} minutes\")\n",
    "    print(f\"Accuracy:  {model_results['accuracy']:.4f}\")\n",
    "    print(f\"Precision: {model_results['precision']:.4f}\")\n",
    "    print(f\"Recall:    {model_results['recall']:.4f}\")\n",
    "    print(f\"F1-Score:  {model_results['f1_score']:.4f}\")\n",
    "    \n",
    "    # Create visualizations\n",
    "    create_visualizations(training_history, model_results)\n",
    "    \n",
    "    # Save model\n",
    "    fast_model.save('advanced_cnn.h5')\n",
    "    print(\"\\n Model saved as 'advanced_cnn.h5'\")\n",
    "    \n",
    "    print(f\"\\n Optimized training complete in {execution_time:.1f} minutes!\")\n",
    "\n",
    "# Run the optimized version\n",
    "if __name__ == \"__main__\":\n",
    "    main_fast()"
   ]
  }
 ],
 "metadata": {
  "kernelspec": {
   "display_name": ".venv (3.9.6)",
   "language": "python",
   "name": "python3"
  },
  "language_info": {
   "codemirror_mode": {
    "name": "ipython",
    "version": 3
   },
   "file_extension": ".py",
   "mimetype": "text/x-python",
   "name": "python",
   "nbconvert_exporter": "python",
   "pygments_lexer": "ipython3",
   "version": "3.9.6"
  }
 },
 "nbformat": 4,
 "nbformat_minor": 5
}
